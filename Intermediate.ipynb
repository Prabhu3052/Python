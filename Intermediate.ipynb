{
 "cells": [
  {
   "cell_type": "markdown",
   "metadata": {},
   "source": [
    "Check for Armstrong Number :"
   ]
  },
  {
   "cell_type": "code",
   "execution_count": 2,
   "metadata": {},
   "outputs": [
    {
     "name": "stdout",
     "output_type": "stream",
     "text": [
      "54 is not an Armstrong number.\n"
     ]
    }
   ],
   "source": [
    "num = int(input(\"Enter a number: \"))\n",
    "sum_of_powers = sum(int(digit) ** len(str(num)) for digit in str(num))\n",
    "print(f\"{num} is {'an Armstrong number' if num == sum_of_powers else 'not an Armstrong number'}.\")\n"
   ]
  },
  {
   "cell_type": "markdown",
   "metadata": {},
   "source": [
    "Count Vowels in a String :"
   ]
  },
  {
   "cell_type": "code",
   "execution_count": 3,
   "metadata": {},
   "outputs": [
    {
     "name": "stdout",
     "output_type": "stream",
     "text": [
      "Number of vowels: 2\n"
     ]
    }
   ],
   "source": [
    "string = input(\"Enter a string: \")\n",
    "vowels = \"aeiouAEIOU\"\n",
    "count = sum(1 for char in string if char in vowels)\n",
    "print(f\"Number of vowels: {count}\")\n"
   ]
  },
  {
   "cell_type": "markdown",
   "metadata": {},
   "source": [
    "Calculate Sum of Digits :"
   ]
  },
  {
   "cell_type": "code",
   "execution_count": 4,
   "metadata": {},
   "outputs": [
    {
     "name": "stdout",
     "output_type": "stream",
     "text": [
      "Sum of digits: 20\n"
     ]
    }
   ],
   "source": [
    "num = int(input(\"Enter a number: \"))\n",
    "digit_sum = sum(int(digit) for digit in str(num))\n",
    "print(f\"Sum of digits: {digit_sum}\")\n"
   ]
  },
  {
   "cell_type": "markdown",
   "metadata": {},
   "source": [
    "Find the Second Largest Number in a List :"
   ]
  },
  {
   "cell_type": "code",
   "execution_count": 5,
   "metadata": {},
   "outputs": [
    {
     "name": "stdout",
     "output_type": "stream",
     "text": [
      "Second largest number: 5\n"
     ]
    }
   ],
   "source": [
    "numbers = list(map(int, input(\"Enter numbers separated by space: \").split()))\n",
    "second_largest = sorted(set(numbers))[-2]\n",
    "print(f\"Second largest number: {second_largest}\")\n"
   ]
  },
  {
   "cell_type": "markdown",
   "metadata": {},
   "source": [
    " Transpose a Matrix :"
   ]
  },
  {
   "cell_type": "code",
   "execution_count": 6,
   "metadata": {},
   "outputs": [
    {
     "name": "stdout",
     "output_type": "stream",
     "text": [
      "Transpose of matrix: [[1, 4, 7], [2, 5, 8], [3, 6, 9]]\n"
     ]
    }
   ],
   "source": [
    "matrix = [[1, 2, 3], [4, 5, 6], [7, 8, 9]]\n",
    "transpose = [[row[i] for row in matrix] for i in range(len(matrix[0]))]\n",
    "print(\"Transpose of matrix:\", transpose)\n"
   ]
  },
  {
   "cell_type": "markdown",
   "metadata": {},
   "source": [
    "Check if Two Strings Are Anagrams :"
   ]
  },
  {
   "cell_type": "code",
   "execution_count": 7,
   "metadata": {},
   "outputs": [
    {
     "name": "stdout",
     "output_type": "stream",
     "text": [
      "jamboo and joker are not anagrams.\n"
     ]
    }
   ],
   "source": [
    "s1, s2 = input(\"Enter first string: \"), input(\"Enter second string: \")\n",
    "print(f\"{s1} and {s2} are {'anagrams' if sorted(s1) == sorted(s2) else 'not anagrams'}.\")\n"
   ]
  },
  {
   "cell_type": "markdown",
   "metadata": {},
   "source": [
    " Find All Divisors of a Number :"
   ]
  },
  {
   "cell_type": "code",
   "execution_count": 8,
   "metadata": {},
   "outputs": [
    {
     "name": "stdout",
     "output_type": "stream",
     "text": [
      "Divisors of 54: [1, 2, 3, 6, 9, 18, 27, 54]\n"
     ]
    }
   ],
   "source": [
    "num = int(input(\"Enter a number: \"))\n",
    "divisors = [i for i in range(1, num + 1) if num % i == 0]\n",
    "print(f\"Divisors of {num}: {divisors}\")\n"
   ]
  },
  {
   "cell_type": "markdown",
   "metadata": {},
   "source": [
    "Check if a Year is Leap Year :"
   ]
  },
  {
   "cell_type": "code",
   "execution_count": 9,
   "metadata": {},
   "outputs": [
    {
     "name": "stdout",
     "output_type": "stream",
     "text": [
      "2004 is a leap year.\n"
     ]
    }
   ],
   "source": [
    "year = int(input(\"Enter a year: \"))\n",
    "print(f\"{year} is {'a leap year' if (year % 4 == 0 and year % 100 != 0) or year % 400 == 0 else 'not a leap year'}.\")\n"
   ]
  },
  {
   "cell_type": "markdown",
   "metadata": {},
   "source": [
    " Flatten a Nested List :"
   ]
  },
  {
   "cell_type": "code",
   "execution_count": 10,
   "metadata": {},
   "outputs": [
    {
     "name": "stdout",
     "output_type": "stream",
     "text": [
      "Flattened list: [1, 2, 3, 4, 5, 6]\n"
     ]
    }
   ],
   "source": [
    "nested_list = [[1, 2], [3, 4, 5], [6]]\n",
    "flat_list = [item for sublist in nested_list for item in sublist]\n",
    "print(\"Flattened list:\", flat_list)\n"
   ]
  },
  {
   "cell_type": "markdown",
   "metadata": {},
   "source": [
    "Find the GCD of Two Numbers :"
   ]
  },
  {
   "cell_type": "code",
   "execution_count": 12,
   "metadata": {},
   "outputs": [
    {
     "name": "stdout",
     "output_type": "stream",
     "text": [
      "GCD of 6 and 74: 2\n"
     ]
    }
   ],
   "source": [
    "from math import gcd\n",
    "a, b = map(int, input(\"Enter two numbers: \").split())\n",
    "print(f\"GCD of {a} and {b}: {gcd(a, b)}\")\n"
   ]
  }
 ],
 "metadata": {
  "kernelspec": {
   "display_name": "base",
   "language": "python",
   "name": "python3"
  },
  "language_info": {
   "codemirror_mode": {
    "name": "ipython",
    "version": 3
   },
   "file_extension": ".py",
   "mimetype": "text/x-python",
   "name": "python",
   "nbconvert_exporter": "python",
   "pygments_lexer": "ipython3",
   "version": "undefined.undefined.undefined"
  }
 },
 "nbformat": 4,
 "nbformat_minor": 2
}
